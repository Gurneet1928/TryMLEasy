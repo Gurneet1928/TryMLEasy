{
 "cells": [
  {
   "cell_type": "code",
   "execution_count": 5,
   "id": "7e291a24",
   "metadata": {},
   "outputs": [],
   "source": [
    "import streamlit as st\n",
    "import numpy as np\n",
    "import pandas as pd"
   ]
  },
  {
   "cell_type": "code",
   "execution_count": 6,
   "id": "ac66173a",
   "metadata": {},
   "outputs": [],
   "source": [
    "st.title(\"TryMLEasy\")\n",
    "st.write(\"TryMLEasy\")"
   ]
  },
  {
   "cell_type": "code",
   "execution_count": null,
   "id": "4f0e909d",
   "metadata": {},
   "outputs": [],
   "source": []
  }
 ],
 "metadata": {
  "kernelspec": {
   "display_name": "Python 3 (ipykernel)",
   "language": "python",
   "name": "python3"
  },
  "language_info": {
   "codemirror_mode": {
    "name": "ipython",
    "version": 3
   },
   "file_extension": ".py",
   "mimetype": "text/x-python",
   "name": "python",
   "nbconvert_exporter": "python",
   "pygments_lexer": "ipython3",
   "version": "3.9.12"
  }
 },
 "nbformat": 4,
 "nbformat_minor": 5
}
